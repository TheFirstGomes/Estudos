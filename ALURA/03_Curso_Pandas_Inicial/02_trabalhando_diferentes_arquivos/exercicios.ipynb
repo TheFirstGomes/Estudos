{
 "cells": [
  {
   "cell_type": "code",
   "execution_count": null,
   "id": "a3e79fa3",
   "metadata": {},
   "outputs": [],
   "source": [
    "import pandas as pd"
   ]
  },
  {
   "cell_type": "code",
   "execution_count": null,
   "id": "2964d6c5",
   "metadata": {},
   "outputs": [],
   "source": [
    "url = 'https://raw.githubusercontent.com/alura-cursos/Pandas/main/dados_sus.csv'\n",
    "df = pd.read_csv(url, encoding='ISO-8859-1', sep=';', skiprows=3, skipfooter=9, engine='python')"
   ]
  }
 ],
 "metadata": {
  "kernelspec": {
   "display_name": ".venv",
   "language": "python",
   "name": "python3"
  },
  "language_info": {
   "name": "python",
   "version": "3.14.0"
  }
 },
 "nbformat": 4,
 "nbformat_minor": 5
}
